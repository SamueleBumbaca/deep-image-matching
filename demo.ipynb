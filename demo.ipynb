{
 "cells": [
  {
   "cell_type": "code",
   "execution_count": null,
   "metadata": {
    "notebookRunGroups": {
     "groupValue": ""
    }
   },
   "outputs": [],
   "source": [
    "import deep_image_matching as dim\n",
    "\n",
    "params = {\n",
    "    \"dir\": \"./assets/example_cyprus\",\n",
    "    \"pipeline\": \"superpoint+lightglue\",\n",
    "    \"strategy\": \"matching_lowres\",\n",
    "    \"quality\": \"medium\",\n",
    "    \"tiling\": \"none\",\n",
    "    \"camera_options\": \"./assets/example_cyprus/cameras.yaml\",\n",
    "    \"openmvg\": None,\n",
    "}\n",
    "config = dim.Config(params)"
   ]
  },
  {
   "cell_type": "markdown",
   "metadata": {},
   "source": [
    "Run feature extraction and matching"
   ]
  },
  {
   "cell_type": "code",
   "execution_count": null,
   "metadata": {},
   "outputs": [],
   "source": [
    "matcher = dim.ImageMatcher(config)\n",
    "feature_path, match_path = matcher.run()"
   ]
  },
  {
   "cell_type": "markdown",
   "metadata": {},
   "source": [
    "Export matches to COLMAP format"
   ]
  },
  {
   "cell_type": "code",
   "execution_count": null,
   "metadata": {},
   "outputs": [],
   "source": [
    "dim.io.export_to_colmap(\n",
    "    img_dir=config.general[\"image_dir\"],\n",
    "    feature_path=feature_path,\n",
    "    match_path=match_path,\n",
    "    database_path=config.general[\"output_dir\"] / \"database.db\",\n",
    "    camera_config_path=config.general[\"camera_options\"],\n",
    ")"
   ]
  },
  {
   "cell_type": "markdown",
   "metadata": {},
   "source": [
    "Run reconstruction with pycolmap"
   ]
  },
  {
   "cell_type": "code",
   "execution_count": null,
   "metadata": {},
   "outputs": [],
   "source": [
    "model = dim.reconstruction.pycolmap_reconstruction(\n",
    "    database_path=config.general[\"output_dir\"] / \"database.db\",\n",
    "    sfm_dir=config.general[\"output_dir\"],\n",
    "    image_dir=config.general[\"image_dir\"],\n",
    "    refine_intrinsics=False,\n",
    ")"
   ]
  }
 ],
 "metadata": {
  "kernelspec": {
   "display_name": "deep_image_matching",
   "language": "python",
   "name": "python3"
  },
  "language_info": {
   "codemirror_mode": {
    "name": "ipython",
    "version": 3
   },
   "file_extension": ".py",
   "mimetype": "text/x-python",
   "name": "python",
   "nbconvert_exporter": "python",
   "pygments_lexer": "ipython3",
   "version": "3.10.14"
  }
 },
 "nbformat": 4,
 "nbformat_minor": 2
}
