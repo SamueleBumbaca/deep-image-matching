{
 "cells": [
  {
   "cell_type": "markdown",
   "metadata": {},
   "source": [
    "# Run Dense reconstruction\n",
    "\n",
    "This notebook will guide you for running a dense reconstruction with LOFTR or RoMa starting from an existing reconstruction (e.g., carried out with SuperPoint+LightGlue that are more robust for image orientation).\n",
    "\n",
    "This notebook will perform the dense matching with RoMa and it uses pycolmap to triangulate the points from the existing camera poses using pycolmap. To build a sparse reconstruction with SuperPoint+LightGlue, you can use the notebook `sfm_pipeline.ipynb`.\n"
   ]
  },
  {
   "cell_type": "code",
   "execution_count": null,
   "metadata": {},
   "outputs": [],
   "source": [
    "import deep_image_matching as dim\n",
    "import yaml\n",
    "import pycolmap\n",
    "from deep_image_matching.triangulation import db_from_existing_poses\n",
    "from deep_image_matching.utils import OutputCapture\n",
    "\n",
    "logger = dim.setup_logger(\"dim\")\n",
    "\n",
    "# Define the paraemters for the dense matching\n",
    "params = {\n",
    "    \"dir\": \"../assets/example_cyprus\",\n",
    "    \"pipeline\": \"roma\",\n",
    "    \"config_file\": \"../assets/example_cyprus/config_roma.yaml\",\n",
    "    \"strategy\": \"matching_lowres\",\n",
    "    \"quality\": \"medium\",\n",
    "    \"tiling\": \"none\",\n",
    "    \"skip_reconstruction\": True,\n",
    "    \"force\": True,\n",
    "    \"camera_options\": \"../assets/example_cyprus/cameras.yaml\",\n",
    "    \"openmvg\": None,\n",
    "}\n",
    "\n",
    "# Build the configuration object\n",
    "config = dim.Config(params)"
   ]
  },
  {
   "cell_type": "markdown",
   "metadata": {},
   "source": [
    "Define the parameters for building the dense reconstruction starting from the known camera poses computed previously.\n"
   ]
  },
  {
   "cell_type": "code",
   "execution_count": null,
   "metadata": {},
   "outputs": [],
   "source": [
    "# Define project directory\n",
    "root_path = config.general[\"output_dir\"].parent\n",
    "image_dir = config.general[\"image_dir\"]\n",
    "\n",
    "# Path to the pre-computed COLMAP reconstuction with the knwon poses (set your own path)\n",
    "sfm_path = root_path / \"results_superpoint+lightglue_matching_lowres_quality_medium\"\n",
    "sfm_db_path = sfm_path / \"database.db\"\n",
    "sfm_rec_path = sfm_path / \"reconstruction\"\n",
    "\n",
    "# Path to the dense matching results to be triangulated\n",
    "dense_path = config.general[\"output_dir\"]\n",
    "features_h5 = dense_path / \"features.h5\"\n",
    "matches_h5 = dense_path / \"matches.h5\"\n",
    "pair_file = dense_path / \"pairs.txt\"\n",
    "\n",
    "# Path to the output for the dense matching\n",
    "dense_db_path = dense_path / \"database_dense.db\"\n",
    "model_path = dense_path / \"dense_model\"\n",
    "model_path.mkdir(exist_ok=True, parents=True)\n",
    "\n",
    "# Do geometric verification of the dense features (computing the epipolar error)\n",
    "do_geometric_verification = True\n",
    "max_error = 6\n",
    "\n",
    "# Define trinagulation parameters\n",
    "triang_min_angle = 0.1"
   ]
  },
  {
   "cell_type": "code",
   "execution_count": null,
   "metadata": {},
   "outputs": [],
   "source": [
    "# Initialize ImageMatcher class\n",
    "matcher = dim.ImageMatcher(config)\n",
    "\n",
    "# Run image matching\n",
    "feature_path, match_path = matcher.run()\n",
    "\n",
    "# Export in colmap format\n",
    "database_path = config.general[\"output_dir\"] / \"database.db\"\n",
    "dim.io.export_to_colmap(\n",
    "    img_dir=config.general[\"image_dir\"],\n",
    "    feature_path=feature_path,\n",
    "    match_path=match_path,\n",
    "    database_path=database_path,\n",
    "    camera_config_path=config.general[\"camera_options\"],\n",
    ")"
   ]
  },
  {
   "cell_type": "code",
   "execution_count": null,
   "metadata": {},
   "outputs": [],
   "source": [
    "# Open sfm reconstruction with pycolmap\n",
    "sfm_rec = pycolmap.Reconstruction(sfm_rec_path)\n",
    "\n",
    "# Create a new database with the dense features and the known camera poses\n",
    "db_from_existing_poses(\n",
    "    dense_db_path,\n",
    "    features_h5,\n",
    "    matches_h5,\n",
    "    sfm_rec_path,\n",
    "    pair_file,\n",
    "    do_geometric_verification=do_geometric_verification,\n",
    "    max_error=max_error,\n",
    ")"
   ]
  },
  {
   "cell_type": "code",
   "execution_count": null,
   "metadata": {},
   "outputs": [],
   "source": [
    "# Run the triangulation with the known camera poses\n",
    "\n",
    "# Define the options for the triangulation according to the IncrementalPipelineOptions available in pycolmap\n",
    "# print(pycolmap.IncrementalPipelineOptions().summary())\n",
    "opt = dict(\n",
    "    triangulation=dict(\n",
    "        ignore_two_view_tracks=False,\n",
    "        min_angle=triang_min_angle,\n",
    "    ),\n",
    ")\n",
    "verbose = True\n",
    "\n",
    "with OutputCapture(verbose):\n",
    "    with pycolmap.ostream():\n",
    "        reconstruction = pycolmap.triangulate_points(\n",
    "            sfm_rec,\n",
    "            dense_db_path,\n",
    "            image_dir,\n",
    "            model_path,\n",
    "            options=opt,\n",
    "        )"
   ]
  },
  {
   "cell_type": "code",
   "execution_count": null,
   "metadata": {},
   "outputs": [],
   "source": [
    "# Export the reconstruction in ply (to be opened in CloudCompare or Meshlab)\n",
    "reconstruction.export_PLY(model_path / \"model.ply\")\n",
    "\n",
    "# Export the reconstruction in bundler format (to be imported in Metashape)\n",
    "reconstruction.export_bundler(\n",
    "    model_path / \"bundler.out\",\n",
    "    model_path / \"bundler_list.txt\",\n",
    "    skip_distortion=True,\n",
    ")"
   ]
  },
  {
   "cell_type": "markdown",
   "metadata": {},
   "source": [
    "Now you can open the dense reconstruction also with the COLMAP GUI.\n"
   ]
  }
 ],
 "metadata": {
  "kernelspec": {
   "display_name": "deep-image-matching",
   "language": "python",
   "name": "python3"
  },
  "language_info": {
   "codemirror_mode": {
    "name": "ipython",
    "version": 3
   },
   "file_extension": ".py",
   "mimetype": "text/x-python",
   "name": "python",
   "nbconvert_exporter": "python",
   "pygments_lexer": "ipython3",
   "version": "3.10.13"
  }
 },
 "nbformat": 4,
 "nbformat_minor": 2
}
